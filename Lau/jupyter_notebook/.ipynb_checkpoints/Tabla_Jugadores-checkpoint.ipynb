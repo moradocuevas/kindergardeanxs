{
 "cells": [
  {
   "cell_type": "code",
   "execution_count": 1,
   "metadata": {},
   "outputs": [],
   "source": [
    "import pandas as pd\n",
    "from sqlalchemy import create_engine\n",
    "from sqlalchemy.ext.declarative import declarative_base\n",
    "from sqlalchemy.orm import Session\n",
    "# Allow us to declare column types\n",
    "from sqlalchemy import Column, Integer, String, Float, Text "
   ]
  },
  {
   "cell_type": "markdown",
   "metadata": {},
   "source": [
    "### Extract CSVs into DataFrames"
   ]
  },
  {
   "cell_type": "code",
   "execution_count": 2,
   "metadata": {},
   "outputs": [],
   "source": [
    "datosFifa_file = \"../Resources/jugadores.csv\"\n",
    "datosFifa_data_df = pd.read_csv(datosFifa_file, encoding='UTF-8')"
   ]
  },
  {
   "cell_type": "markdown",
   "metadata": {},
   "source": [
    "### Transform DataFrames"
   ]
  },
  {
   "cell_type": "code",
   "execution_count": 3,
   "metadata": {},
   "outputs": [
    {
     "name": "stdout",
     "output_type": "stream",
     "text": [
      "<class 'pandas.core.frame.DataFrame'>\n",
      "RangeIndex: 16643 entries, 0 to 16642\n",
      "Data columns (total 13 columns):\n",
      "ID                16643 non-null int64\n",
      "Name              16643 non-null object\n",
      "Age               16643 non-null int64\n",
      "Nationality       16643 non-null object\n",
      "Overall           16643 non-null int64\n",
      "Potential         16643 non-null int64\n",
      "Club              16643 non-null object\n",
      "Value             16643 non-null object\n",
      "Wage              16643 non-null object\n",
      "Release_Clause    16643 non-null object\n",
      "Photo             16643 non-null object\n",
      "Club_Logo         16643 non-null object\n",
      "Aggression        16643 non-null int64\n",
      "dtypes: int64(5), object(8)\n",
      "memory usage: 1.7+ MB\n"
     ]
    }
   ],
   "source": [
    "datosFifa_data_df.info()"
   ]
  },
  {
   "cell_type": "code",
   "execution_count": 4,
   "metadata": {},
   "outputs": [
    {
     "ename": "AttributeError",
     "evalue": "'Series' object has no attribute 'to_list'",
     "output_type": "error",
     "traceback": [
      "\u001b[0;31m---------------------------------------------------------------------------\u001b[0m",
      "\u001b[0;31mAttributeError\u001b[0m                            Traceback (most recent call last)",
      "\u001b[0;32m<ipython-input-4-8a8dae7e65b9>\u001b[0m in \u001b[0;36m<module>\u001b[0;34m()\u001b[0m\n\u001b[1;32m      2\u001b[0m                                               \u001b[0;34m'Club'\u001b[0m\u001b[0;34m,\u001b[0m\u001b[0;34m'Value'\u001b[0m\u001b[0;34m,\u001b[0m\u001b[0;34m'Wage'\u001b[0m\u001b[0;34m,\u001b[0m\u001b[0;34m'Release_Clause'\u001b[0m\u001b[0;34m,\u001b[0m\u001b[0;34m\u001b[0m\u001b[0m\n\u001b[1;32m      3\u001b[0m                                              'Photo', 'Club_Logo', 'Aggression']].copy()\n\u001b[0;32m----> 4\u001b[0;31m \u001b[0mpv\u001b[0m\u001b[0;34m=\u001b[0m\u001b[0mdatosFifa_transformed_df\u001b[0m\u001b[0;34m[\u001b[0m\u001b[0;34m'Value'\u001b[0m\u001b[0;34m]\u001b[0m\u001b[0;34m.\u001b[0m\u001b[0mto_list\u001b[0m\u001b[0;34m(\u001b[0m\u001b[0;34m)\u001b[0m\u001b[0;34m\u001b[0m\u001b[0m\n\u001b[0m\u001b[1;32m      5\u001b[0m \u001b[0mw\u001b[0m\u001b[0;34m=\u001b[0m\u001b[0mdatosFifa_transformed_df\u001b[0m\u001b[0;34m[\u001b[0m\u001b[0;34m'Wage'\u001b[0m\u001b[0;34m]\u001b[0m\u001b[0;34m.\u001b[0m\u001b[0mto_list\u001b[0m\u001b[0;34m(\u001b[0m\u001b[0;34m)\u001b[0m\u001b[0;34m\u001b[0m\u001b[0m\n\u001b[1;32m      6\u001b[0m \u001b[0mrc\u001b[0m\u001b[0;34m=\u001b[0m\u001b[0mdatosFifa_transformed_df\u001b[0m\u001b[0;34m[\u001b[0m\u001b[0;34m'Release_Clause'\u001b[0m\u001b[0;34m]\u001b[0m\u001b[0;34m.\u001b[0m\u001b[0mto_list\u001b[0m\u001b[0;34m(\u001b[0m\u001b[0;34m)\u001b[0m\u001b[0;34m\u001b[0m\u001b[0m\n",
      "\u001b[0;32m/anaconda3/lib/python3.6/site-packages/pandas/core/generic.py\u001b[0m in \u001b[0;36m__getattr__\u001b[0;34m(self, name)\u001b[0m\n\u001b[1;32m   3612\u001b[0m             \u001b[0;32mif\u001b[0m \u001b[0mname\u001b[0m \u001b[0;32min\u001b[0m \u001b[0mself\u001b[0m\u001b[0;34m.\u001b[0m\u001b[0m_info_axis\u001b[0m\u001b[0;34m:\u001b[0m\u001b[0;34m\u001b[0m\u001b[0m\n\u001b[1;32m   3613\u001b[0m                 \u001b[0;32mreturn\u001b[0m \u001b[0mself\u001b[0m\u001b[0;34m[\u001b[0m\u001b[0mname\u001b[0m\u001b[0;34m]\u001b[0m\u001b[0;34m\u001b[0m\u001b[0m\n\u001b[0;32m-> 3614\u001b[0;31m             \u001b[0;32mreturn\u001b[0m \u001b[0mobject\u001b[0m\u001b[0;34m.\u001b[0m\u001b[0m__getattribute__\u001b[0m\u001b[0;34m(\u001b[0m\u001b[0mself\u001b[0m\u001b[0;34m,\u001b[0m \u001b[0mname\u001b[0m\u001b[0;34m)\u001b[0m\u001b[0;34m\u001b[0m\u001b[0m\n\u001b[0m\u001b[1;32m   3615\u001b[0m \u001b[0;34m\u001b[0m\u001b[0m\n\u001b[1;32m   3616\u001b[0m     \u001b[0;32mdef\u001b[0m \u001b[0m__setattr__\u001b[0m\u001b[0;34m(\u001b[0m\u001b[0mself\u001b[0m\u001b[0;34m,\u001b[0m \u001b[0mname\u001b[0m\u001b[0;34m,\u001b[0m \u001b[0mvalue\u001b[0m\u001b[0;34m)\u001b[0m\u001b[0;34m:\u001b[0m\u001b[0;34m\u001b[0m\u001b[0m\n",
      "\u001b[0;31mAttributeError\u001b[0m: 'Series' object has no attribute 'to_list'"
     ]
    }
   ],
   "source": [
    "datosFifa_transformed_df = datosFifa_data_df[['ID','Name','Age','Nationality','Overall',\n",
    "                                              'Club','Value','Wage','Release_Clause',\n",
    "                                             'Photo', 'Club_Logo', 'Aggression']].copy()\n",
    "pv=datosFifa_transformed_df['Value'].to_list()\n",
    "w=datosFifa_transformed_df['Wage'].to_list()\n",
    "rc=datosFifa_transformed_df['Release_Clause'].to_list()\n",
    "pv1=[]\n",
    "for x in pv:\n",
    "    try:\n",
    "        l = len(x) - 1\n",
    "        euro = x[-l:]\n",
    "        if euro[-1:] == \"M\":\n",
    "            l = len(euro) - 1\n",
    "            s = euro[:l]\n",
    "            number = float(s) * 1000000\n",
    "        else:\n",
    "            l = len(euro) - 1\n",
    "            s = euro[:l]\n",
    "            number = float(s) * 1000\n",
    "        pv1.append(number)\n",
    "    except:\n",
    "        pv1.append(0)\n",
    "\n",
    "w1=[]\n",
    "for x in w:\n",
    "    try:\n",
    "        l = len(x) - 1\n",
    "        euro = x[-l:]\n",
    "        if euro[-1:] == \"M\":\n",
    "            l = len(euro) - 1\n",
    "            s = euro[:l]\n",
    "            number = float(s) * 1000000\n",
    "        else:\n",
    "            l = len(euro) - 1\n",
    "            s = euro[:l]\n",
    "            number = float(s) * 1000\n",
    "        w1.append(number)\n",
    "    except:\n",
    "        w1.append(0)\n",
    "    \n",
    "rc1=[]\n",
    "for x in rc:\n",
    "    try:\n",
    "        l = len(x) - 1\n",
    "        euro = x[-l:]\n",
    "        if euro[-1:] == \"M\":\n",
    "            l = len(euro) - 1\n",
    "            s = euro[:l]\n",
    "            number = float(s) * 1000000\n",
    "        else:\n",
    "            l = len(euro) - 1\n",
    "            s = euro[:l]\n",
    "            number = float(s) * 1000\n",
    "        rc1.append(number)\n",
    "    except:\n",
    "        rc1.append(0)\n",
    "        \n",
    "change = {'pv':pv1,'w':w1,'rc':rc1}\n",
    "clean_values = pd.DataFrame(change)\n",
    "datosFifa_transformed_df = pd.concat([datosFifa_transformed_df,clean_values], axis=1)\n",
    "datosFifa_transformed_df = datosFifa_transformed_df[['ID','Name','Age','Nationality','Overall',\n",
    "                                                     'Club','pv','w','rc',\n",
    "                                                     'Photo', 'Club_Logo', 'Aggression']]\n",
    "datosFifa_transformed_df = datosFifa_transformed_df.rename(columns={'ID':'player_id',\n",
    "                                                                    'Name':'player_name',\n",
    "                                                                    'Age':'age',\n",
    "                                                                    'Nationality':'nationality',\n",
    "                                                                    'Overall':'overall',\n",
    "                                                                    'Club':'club','pv':'player_value',\n",
    "                                                                    'w':'wage','rc':'relase_clause',\n",
    "                                                                    'Photo':'photo','Club_Logo':'club_logo',\n",
    "                                                                    'Aggression':'aggression'})"
   ]
  },
  {
   "cell_type": "code",
   "execution_count": null,
   "metadata": {},
   "outputs": [],
   "source": [
    "datosFifa_transformed_df.head()"
   ]
  },
  {
   "cell_type": "code",
   "execution_count": null,
   "metadata": {},
   "outputs": [],
   "source": [
    "datosFifa_transformed_df.info()"
   ]
  },
  {
   "cell_type": "markdown",
   "metadata": {},
   "source": [
    "## Classes"
   ]
  },
  {
   "cell_type": "code",
   "execution_count": null,
   "metadata": {},
   "outputs": [],
   "source": [
    "Base = declarative_base()"
   ]
  },
  {
   "cell_type": "code",
   "execution_count": null,
   "metadata": {},
   "outputs": [],
   "source": [
    "class Fifa(Base):\n",
    "    __tablename__ = 'fifa'\n",
    "    player_id = Column(Integer, primary_key=True)\n",
    "    player_name = Column(String(255))\n",
    "    age = Column(Integer)\n",
    "    nationality = Column(String(255))\n",
    "    overall = Column(Integer)\n",
    "    club = Column(String(255))\n",
    "    player_value = Column(Float)\n",
    "    wage = Column(Float)\n",
    "    relase_clause = Column(Float)\n",
    "    photo = Column(Text)\n",
    "    club_logo = Column(Text)\n",
    "    aggression = Column(Float)\n"
   ]
  },
  {
   "cell_type": "markdown",
   "metadata": {},
   "source": [
    "### Database connection"
   ]
  },
  {
   "cell_type": "code",
   "execution_count": null,
   "metadata": {},
   "outputs": [],
   "source": [
    "password = '{your password}'\n",
    "rds_connection_string = f'root:{password}@localhost:3306/fifadb?charset=utf8mb4'"
   ]
  },
  {
   "cell_type": "code",
   "execution_count": null,
   "metadata": {},
   "outputs": [],
   "source": [
    "engine = create_engine(f'mysql://{rds_connection_string}')\n",
    "conn = engine.connect()"
   ]
  },
  {
   "cell_type": "code",
   "execution_count": null,
   "metadata": {},
   "outputs": [],
   "source": [
    "# Create a \"Metadata\" Layer That Abstracts our SQL Database\n",
    "# ----------------------------------\n",
    "# Create (if not already in existence) the tables associated with our classes.\n",
    "Base.metadata.create_all(engine)\n",
    "\n",
    "# Use this to clear out the db\n",
    "# ----------------------------------\n",
    "# Base.metadata.drop_all(engine)\n",
    "session = Session(bind=engine)"
   ]
  },
  {
   "cell_type": "markdown",
   "metadata": {},
   "source": [
    "## Ad data"
   ]
  },
  {
   "cell_type": "code",
   "execution_count": null,
   "metadata": {},
   "outputs": [],
   "source": [
    "df = datosFifa_transformed_df"
   ]
  },
  {
   "cell_type": "code",
   "execution_count": null,
   "metadata": {},
   "outputs": [],
   "source": [
    "for index, row in df.iterrows():\n",
    "    player = Fifa(player_id=row['player_id'], player_name=row['player_name'], age=row['age'], \n",
    "                  nationality=row['nationality'], overall=row['overall'],club=row['club'], \n",
    "                  player_value=row['player_value'], wage=row['wage'], relase_clause=row['relase_clause'],\n",
    "                  photo=row['photo'], club_logo=row['club_logo'],\n",
    "                  aggression=row['aggression'])\n",
    "    session.add(player)"
   ]
  },
  {
   "cell_type": "code",
   "execution_count": null,
   "metadata": {},
   "outputs": [],
   "source": [
    "session.commit()"
   ]
  }
 ],
 "metadata": {
  "kernelspec": {
   "display_name": "Python 3",
   "language": "python",
   "name": "python3"
  },
  "language_info": {
   "codemirror_mode": {
    "name": "ipython",
    "version": 3
   },
   "file_extension": ".py",
   "mimetype": "text/x-python",
   "name": "python",
   "nbconvert_exporter": "python",
   "pygments_lexer": "ipython3",
   "version": "3.6.4"
  }
 },
 "nbformat": 4,
 "nbformat_minor": 2
}
